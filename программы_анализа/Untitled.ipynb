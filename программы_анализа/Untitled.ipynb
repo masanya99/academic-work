{
 "cells": [
  {
   "cell_type": "code",
   "execution_count": 1,
   "metadata": {},
   "outputs": [
    {
     "name": "stdout",
     "output_type": "stream",
     "text": [
      "Введите ИНН: 5521020256\n",
      "Данных нет\n"
     ]
    }
   ],
   "source": [
    "import requests, bs4\n",
    "inn=''\n",
    "inn = input('Введите ИНН: ')\n",
    "url = 'https://www.cbr.ru/finmarket/nfo/cat_ufr/?Query=' + inn+'&QueryField=inn'\n",
    "s=requests.get(url)\n",
    "b=bs4.BeautifulSoup(s.text, \"html.parser\")\n",
    "\n",
    "p=b.find_all(class_=\"data\")\n",
    "\n",
    "if len(p) != 0 :\n",
    "    print('Компания состоит в реестре Банка России')\n",
    "else:\n",
    "    print('Данных нет')"
   ]
  },
  {
   "cell_type": "code",
   "execution_count": 2,
   "metadata": {},
   "outputs": [
    {
     "name": "stdout",
     "output_type": "stream",
     "text": [
      "Возможные значения ИНН [7710301140]\n"
     ]
    },
    {
     "data": {
      "text/plain": [
       "'длинна инн юр.лица = 10'"
      ]
     },
     "execution_count": 2,
     "metadata": {},
     "output_type": "execute_result"
    }
   ],
   "source": [
    "import requests, bs4\n",
    "from itertools import groupby\n",
    "\n",
    "nazvanie = 'Связь-Банк'\n",
    "\n",
    "s=requests.get('https://www.google.com/search?q='+nazvanie+'инн')\n",
    "b=bs4.BeautifulSoup(s.text, 'lxml')\n",
    "zapros = b.getText()\n",
    "\n",
    "'Подготовка'\n",
    "p1 = zapros.find('Результатов: примерно')\n",
    "p2 = zapros.rfind('Главная страница Google')\n",
    "zapros =zapros[p1:p2:]\n",
    "\n",
    "zifr = ['0','1','2','3','4','5','6','7','8','9']\n",
    "inn=[]\n",
    "\n",
    "'Код'\n",
    "kolvoinn = zapros.count('ИНН')\n",
    "\n",
    "for i in range(0,kolvoinn):\n",
    "    a = zapros.find('ИНН')\n",
    "    b = a +14\n",
    "    c = zapros[a:b:]\n",
    "    d = ''\n",
    "    for j in range(0,len(c)):\n",
    "        if c[j] in zifr :\n",
    "            d =d +c[j]\n",
    "    if len(d) == 10:        \n",
    "        d = int(d)   \n",
    "        inn.append(d)  \n",
    "    b=b+1\n",
    "    zapros = zapros[b::]\n",
    "\n",
    "\n",
    "inn.sort()\n",
    "inn1=inn\n",
    "inn2=[]\n",
    "\n",
    "inn1 = [el for el, _ in groupby(inn1)]    \n",
    "dlivainn1 = len(inn1)\n",
    "\n",
    "for i in range(0, dlivainn1):\n",
    "    inn2.append(inn.count(inn1[i]))\n",
    "    \n",
    "\n",
    "maxinn2 = 0 \n",
    "nomermaxinn2  = 0 \n",
    "for j in range(0, dlivainn1): \n",
    "    if inn2[j]>maxinn2 :\n",
    "        maxinn2  = inn2[j]\n",
    "        nomermaxinn2 = j\n",
    "\n",
    "maxinn1 = inn1[nomermaxinn2]\n",
    "\n",
    "inn = [el for el, _ in groupby(inn)]  \n",
    "\n",
    "print('Возможные значения ИНН', inn)  \n",
    "if len(inn1) != 1:\n",
    "    print('Чаще всего встречается значение',maxinn1)\n",
    "  \n",
    "\n",
    "'длинна инн юр.лица = 10'"
   ]
  },
  {
   "cell_type": "code",
   "execution_count": 3,
   "metadata": {},
   "outputs": [
    {
     "name": "stdout",
     "output_type": "stream",
     "text": [
      "Такого в списке ratingfx нет\n",
      "Такого в списке forex-ratings нет\n",
      "Рейтинг компании Открытие Брокер по списку brokers-rating - ААА\n",
      "\n"
     ]
    }
   ],
   "source": [
    "import requests, bs4\n",
    "\n",
    "#функция поиска рейтинга брокерской фирмы по трем ресурсам\n",
    "def get_rate(a):\n",
    "    url = 'https://ratingfx.ru/forex/'\n",
    "    rate1_dict= {} \n",
    "    for j in range(1,20):\n",
    "        par= {'page':j}\n",
    "        s1=requests.get(url, params=par)\n",
    "        b1=bs4.BeautifulSoup(s1.text, 'html.parser')\n",
    "        if j==19:\n",
    "            k=2\n",
    "        else:\n",
    "            k=15\n",
    "        for i in range(k):\n",
    "            rate1_title=b1.findAll('div',{'class':'br3'})[i].getText()\n",
    "            rate1_rating=b1.findAll('div', {'class':'rait-n'})[i].getText()\n",
    "            rate1_dict[rate1_title]=rate1_rating\n",
    "            i+=1\n",
    "        j+=1\n",
    "    if rate1_dict.get(a) == None:\n",
    "        print('Такого в списке ratingfx нет')\n",
    "    else: print('Рейтинг по ratingfx компании '+a+' - '+ rate1_dict[a])\n",
    "# =============================================================================\n",
    "    s2=requests.get('http://forex-ratings.ru/forex-brokers/')\n",
    "    rate2_dict= {} \n",
    "    b2=bs4.BeautifulSoup(s2.text, 'lxml')\n",
    "    rates2= b2.find('table', {'class':'table table-responsive'}).findAll('tr')\n",
    "    for rate2 in rates2[1:]:\n",
    "        rate2_title=rate2.find('a',{'class':'blink h2'}).text\n",
    "        rate2_desc= rate2.find('span', {'class':'text-muted'}).text\n",
    "        rate2_dict[rate2_title]=rate2_desc\n",
    "    if rate2_dict.get(a) == None:\n",
    "        print('Такого в списке forex-ratings нет')\n",
    "    else: print('Описание по forex-ratings компании '+a+' - '+ rate2_dict[a])\n",
    "# =============================================================================\n",
    "    s=requests.get('http://www.brokers-rating.ru/archive/')\n",
    "    b=bs4.BeautifulSoup(s.text, 'lxml')\n",
    "    rates11 = b.getText()\n",
    "    nomer=rates11.find('№')\n",
    "    rates11 = rates11[nomer::]\n",
    "    zvezda = rates11.rfind('*')\n",
    "    rates11 = rates11[:zvezda:]\n",
    "    nachalonew=rates11.find('New')\n",
    "    koneznew=nachalonew+3\n",
    "    rates11 = rates11[:nachalonew:]+rates11[koneznew::]\n",
    "    nachalonazvania = rates11.find(a)\n",
    "    dlinanazvania = len(a)\n",
    "    koneznazvania = nachalonazvania+dlinanazvania     \n",
    "    if  nachalonazvania == - 1:\n",
    "         print('Информации о компании '+ a+ ' в списке brokers-rating нет')\n",
    "    else:   \n",
    "         nachalogoda = koneznazvania+1\n",
    "         if rates11[nachalogoda]  == '1' or rates11[nachalogoda] == '2' :\n",
    "            konezgoda = nachalogoda + 3\n",
    "         else :\n",
    "             konezgoda = koneznazvania\n",
    "    \n",
    "         status= rates11.find('Закрыт',koneznazvania,koneznazvania+13 )\n",
    "        \n",
    "         if status != -1:\n",
    "            print ('Компания '+ a+' закрыта')\n",
    "        \n",
    "         else: \n",
    "        \n",
    "            nachaloreitinga = konezgoda + 3\n",
    "            \n",
    "            if ord(rates11[nachaloreitinga] )== 10 :\n",
    "                print ('Рейтинг компании '+ a+' по списку brokers-rating неизвестен')\n",
    "            else: \n",
    "                konezreitinga = nachaloreitinga + 1 \n",
    "                for i in range(2,5):\n",
    "                    if rates11[nachaloreitinga+i] ==' ' :\n",
    "                        break\n",
    "                    else: \n",
    "                        konezreitinga = konezreitinga + 1 \n",
    "                rezultat = rates11[nachaloreitinga:konezreitinga:]\n",
    "                \n",
    "                print('Рейтинг компании '+a+' по списку brokers-rating - '+ rezultat)\n",
    "\n",
    "#использование функции\n",
    "get_rate('Открытие Брокер')\n"
   ]
  },
  {
   "cell_type": "code",
   "execution_count": 4,
   "metadata": {},
   "outputs": [
    {
     "name": "stdout",
     "output_type": "stream",
     "text": [
      "[36]\n"
     ]
    }
   ],
   "source": [
    "import requests, bs4\n",
    "\n",
    "s=requests.get('https://vkoshelek.com/fexbet/')\n",
    "b=bs4.BeautifulSoup(s.text, \"html.parser\")\n",
    "kod=b.getText()\n",
    "\n",
    "znachenia = []\n",
    "\n",
    "b1=kod.count('доходностью')\n",
    "for i in range (1, b1+1):\n",
    "    'Получим строчку с доходностью'\n",
    "    b11= kod.find('доходностью')\n",
    "    b111=b11+20\n",
    "    b1111= kod[b11:b111:]\n",
    " \n",
    "    'Найдем место первой цифры процента'\n",
    "    p = 0\n",
    "    for i in range (1,10):\n",
    "        a = str(i)\n",
    "        p1=b1111.find(a)\n",
    "        if p1==-1:\n",
    "            p=0\n",
    "        else: \n",
    "            p=p1\n",
    "            break\n",
    "    'Найдем место символа процента'\n",
    "    pp = b1111.find('%')\n",
    "    \n",
    "    'Обрежем строчку'\n",
    "    b11111 = b1111[p:pp:]\n",
    "    b11111=int(b11111)\n",
    "    znachenia.append(b11111)\n",
    "    \"Уберем обработанную информацию\"\n",
    "    kod = kod[b111::]\n",
    "    \n",
    "print(znachenia)\n"
   ]
  },
  {
   "cell_type": "code",
   "execution_count": 5,
   "metadata": {},
   "outputs": [
    {
     "name": "stdout",
     "output_type": "stream",
     "text": [
      "Утром :-2° -2°\n",
      "Днём :-2° -2°\n",
      "Прогноз погоды в Москве на сегодня: Облачная погода продержится весь день. Утром прошел мелкий снег, больше сегодня осадков не предвидится.\n"
     ]
    }
   ],
   "source": [
    "s=requests.get('https://sinoptik.com.ru/погода-москва')\n",
    "b=bs4.BeautifulSoup(s.text, \"html.parser\")\n",
    "p3=b.select('.temperature .p3')\n",
    "pogoda1=p3[0].getText()\n",
    "p4=b.select('.temperature .p4')\n",
    "pogoda2=p4[0].getText()\n",
    "p5=b.select('.temperature .p5')\n",
    "pogoda3=p5[0].getText()\n",
    "p6=b.select('.temperature .p6')\n",
    "pogoda4=p6[0].getText()\n",
    "print('Утром :' + pogoda1 + ' ' + pogoda2)\n",
    "print('Днём :' + pogoda3 + ' ' + pogoda4)\n",
    "p=b.select('.rSide .description')\n",
    "pogoda=p[0].getText()\n",
    "print(pogoda.strip())"
   ]
  },
  {
   "cell_type": "code",
   "execution_count": 6,
   "metadata": {},
   "outputs": [
    {
     "name": "stdout",
     "output_type": "stream",
     "text": [
      "['1995', '1995']\n"
     ]
    },
    {
     "ename": "IndexError",
     "evalue": "list index out of range",
     "output_type": "error",
     "traceback": [
      "\u001b[1;31m---------------------------------------------------------------------------\u001b[0m",
      "\u001b[1;31mIndexError\u001b[0m                                Traceback (most recent call last)",
      "\u001b[1;32m<ipython-input-6-531cea2acb02>\u001b[0m in \u001b[0;36m<module>\u001b[1;34m()\u001b[0m\n\u001b[0;32m     14\u001b[0m \u001b[1;33m\u001b[0m\u001b[0m\n\u001b[0;32m     15\u001b[0m \u001b[0ma\u001b[0m\u001b[1;33m=\u001b[0m \u001b[0mb\u001b[0m\u001b[1;33m.\u001b[0m\u001b[0mselect\u001b[0m\u001b[1;33m(\u001b[0m\u001b[1;34m'.align-middle .text-dark h6'\u001b[0m\u001b[1;33m)\u001b[0m\u001b[1;33m\u001b[0m\u001b[0m\n\u001b[1;32m---> 16\u001b[1;33m \u001b[0maa\u001b[0m\u001b[1;33m=\u001b[0m\u001b[0ma\u001b[0m\u001b[1;33m[\u001b[0m\u001b[1;36m0\u001b[0m\u001b[1;33m]\u001b[0m\u001b[1;33m.\u001b[0m\u001b[0mgetText\u001b[0m\u001b[1;33m(\u001b[0m\u001b[1;33m)\u001b[0m\u001b[1;33m\u001b[0m\u001b[0m\n\u001b[0m\u001b[0;32m     17\u001b[0m \u001b[0mprint\u001b[0m\u001b[1;33m(\u001b[0m\u001b[0maa\u001b[0m\u001b[1;33m)\u001b[0m\u001b[1;33m\u001b[0m\u001b[0m\n",
      "\u001b[1;31mIndexError\u001b[0m: list index out of range"
     ]
    }
   ],
   "source": [
    "\n",
    "def get_rate(a):\n",
    "    s=requests.get('http://www.brokers-rating.ru/archive/')\n",
    "    rate_dict= {}\n",
    "    b=bs4.BeautifulSoup(s.text, 'lxml')\n",
    "    rates= b.find('div', {'class':'table-responsive'}).findAll('tr')\n",
    "    for rate in rates[1:]:\n",
    "        rate_title= rate.find('a',{'class':'text-dark h6'}).text\n",
    "        rate_year= rate.find('td',{'class':\"align-middle text-center text-muted text-small\"}).text\n",
    "        rate_rating= rate.find('td',{'class':\"align-middle text-center text-muted text-small\"}).text\n",
    "        rate_dict[rate_title]= [rate_year,rate_rating]\n",
    "    print(rate_dict[a])\n",
    "get_rate('Открытие Брокер')\n",
    "        \n",
    "a= b.select('.align-middle .text-dark h6')\n",
    "aa=a[0].getText()\n",
    "print(aa)"
   ]
  },
  {
   "cell_type": "code",
   "execution_count": null,
   "metadata": {},
   "outputs": [],
   "source": []
  }
 ],
 "metadata": {
  "kernelspec": {
   "display_name": "Python 3",
   "language": "python",
   "name": "python3"
  },
  "language_info": {
   "codemirror_mode": {
    "name": "ipython",
    "version": 3
   },
   "file_extension": ".py",
   "mimetype": "text/x-python",
   "name": "python",
   "nbconvert_exporter": "python",
   "pygments_lexer": "ipython3",
   "version": "3.6.5"
  }
 },
 "nbformat": 4,
 "nbformat_minor": 2
}
